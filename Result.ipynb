{
 "cells": [
  {
   "cell_type": "markdown",
   "metadata": {},
   "source": [
    "# The Titanic Dataset\n",
    "\n",
    "## General Overview"
   ]
  },
  {
   "cell_type": "code",
   "execution_count": 1,
   "metadata": {},
   "outputs": [
    {
     "name": "stderr",
     "output_type": "stream",
     "text": [
      "Warning message:\n",
      "\"package 'tidyverse' was built under R version 3.6.1\"Registered S3 methods overwritten by 'ggplot2':\n",
      "  method         from \n",
      "  [.quosures     rlang\n",
      "  c.quosures     rlang\n",
      "  print.quosures rlang\n",
      "-- Attaching packages --------------------------------------- tidyverse 1.2.1 --\n",
      "v ggplot2 3.1.1       v purrr   0.3.2  \n",
      "v tibble  2.1.1       v dplyr   0.8.0.1\n",
      "v tidyr   0.8.3       v stringr 1.4.0  \n",
      "v readr   1.3.1       v forcats 0.4.0  \n",
      "-- Conflicts ------------------------------------------ tidyverse_conflicts() --\n",
      "x dplyr::filter() masks stats::filter()\n",
      "x dplyr::lag()    masks stats::lag()\n",
      "\n",
      "Attaching package: 'magrittr'\n",
      "\n",
      "The following object is masked from 'package:purrr':\n",
      "\n",
      "    set_names\n",
      "\n",
      "The following object is masked from 'package:tidyr':\n",
      "\n",
      "    extract\n",
      "\n",
      "Warning message:\n",
      "\"package 'caret' was built under R version 3.6.1\"Loading required package: lattice\n",
      "\n",
      "Attaching package: 'caret'\n",
      "\n",
      "The following object is masked from 'package:purrr':\n",
      "\n",
      "    lift\n",
      "\n",
      "Warning message:\n",
      "\"package 'corrplot' was built under R version 3.6.2\"corrplot 0.84 loaded\n",
      "Warning message:\n",
      "\"package 'e1071' was built under R version 3.6.2\"\n",
      "Attaching package: 'boot'\n",
      "\n",
      "The following object is masked from 'package:lattice':\n",
      "\n",
      "    melanoma\n",
      "\n",
      "Parsed with column specification:\n",
      "cols(\n",
      "  PassengerId = col_double(),\n",
      "  Survived = col_double(),\n",
      "  Pclass = col_double(),\n",
      "  Name = col_character(),\n",
      "  Sex = col_character(),\n",
      "  Age = col_double(),\n",
      "  SibSp = col_double(),\n",
      "  Parch = col_double(),\n",
      "  Ticket = col_character(),\n",
      "  Fare = col_double(),\n",
      "  Cabin = col_character(),\n",
      "  Embarked = col_character()\n",
      ")\n"
     ]
    },
    {
     "name": "stdout",
     "output_type": "stream",
     "text": [
      "Observations: 891\n",
      "Variables: 12\n",
      "$ PassengerId <dbl> 1, 2, 3, 4, 5, 6, 7, 8, 9, 10, 11, 12, 13, 14, 15, 16, ...\n",
      "$ Survived    <dbl> 0, 1, 1, 1, 0, 0, 0, 0, 1, 1, 1, 1, 0, 0, 0, 1, 0, 1, 0...\n",
      "$ Pclass      <dbl> 3, 1, 3, 1, 3, 3, 1, 3, 3, 2, 3, 1, 3, 3, 3, 2, 3, 2, 3...\n",
      "$ Name        <chr> \"Braund, Mr. Owen Harris\", \"Cumings, Mrs. John Bradley ...\n",
      "$ Sex         <chr> \"male\", \"female\", \"female\", \"female\", \"male\", \"male\", \"...\n",
      "$ Age         <dbl> 22, 38, 26, 35, 35, NA, 54, 2, 27, 14, 4, 58, 20, 39, 1...\n",
      "$ SibSp       <dbl> 1, 1, 0, 1, 0, 0, 0, 3, 0, 1, 1, 0, 0, 1, 0, 0, 4, 0, 1...\n",
      "$ Parch       <dbl> 0, 0, 0, 0, 0, 0, 0, 1, 2, 0, 1, 0, 0, 5, 0, 0, 1, 0, 0...\n",
      "$ Ticket      <chr> \"A/5 21171\", \"PC 17599\", \"STON/O2. 3101282\", \"113803\", ...\n",
      "$ Fare        <dbl> 7.2500, 71.2833, 7.9250, 53.1000, 8.0500, 8.4583, 51.86...\n",
      "$ Cabin       <chr> NA, \"C85\", NA, \"C123\", NA, NA, \"E46\", NA, NA, NA, \"G6\",...\n",
      "$ Embarked    <chr> \"S\", \"C\", \"S\", \"S\", \"S\", \"Q\", \"S\", \"S\", \"S\", \"C\", \"S\", ...\n"
     ]
    }
   ],
   "source": [
    "library(tidyverse)\n",
    "library(magrittr)\n",
    "library(caret)\n",
    "library(corrplot)\n",
    "library(e1071)\n",
    "library(stringr)\n",
    "library(boot)\n",
    "options(repr.plot.width=5, repr.plot.height=3)\n",
    "\n",
    "df <- read_csv(\"train.csv\")\n",
    "glimpse(df)"
   ]
  },
  {
   "cell_type": "markdown",
   "metadata": {},
   "source": [
    "Convert variables that are obvious factors. "
   ]
  },
  {
   "cell_type": "code",
   "execution_count": 2,
   "metadata": {},
   "outputs": [],
   "source": [
    "df <- df %>%\n",
    "  mutate(Pclass = factor(Pclass),\n",
    "         Sex = factor(Sex),\n",
    "         Embarked = factor(Embarked, levels = c(\"C\", \"Q\", \"S\")),\n",
    "         Survived = factor(Survived)\n",
    "        )"
   ]
  },
  {
   "cell_type": "markdown",
   "metadata": {},
   "source": [
    "Display missing values in the dataset"
   ]
  },
  {
   "cell_type": "code",
   "execution_count": 3,
   "metadata": {},
   "outputs": [
    {
     "data": {
      "text/html": [
       "<dl class=dl-horizontal>\n",
       "\t<dt>PassengerId</dt>\n",
       "\t\t<dd>0</dd>\n",
       "\t<dt>Survived</dt>\n",
       "\t\t<dd>0</dd>\n",
       "\t<dt>Pclass</dt>\n",
       "\t\t<dd>0</dd>\n",
       "\t<dt>Name</dt>\n",
       "\t\t<dd>0</dd>\n",
       "\t<dt>Sex</dt>\n",
       "\t\t<dd>0</dd>\n",
       "\t<dt>Age</dt>\n",
       "\t\t<dd>177</dd>\n",
       "\t<dt>SibSp</dt>\n",
       "\t\t<dd>0</dd>\n",
       "\t<dt>Parch</dt>\n",
       "\t\t<dd>0</dd>\n",
       "\t<dt>Ticket</dt>\n",
       "\t\t<dd>0</dd>\n",
       "\t<dt>Fare</dt>\n",
       "\t\t<dd>0</dd>\n",
       "\t<dt>Cabin</dt>\n",
       "\t\t<dd>687</dd>\n",
       "\t<dt>Embarked</dt>\n",
       "\t\t<dd>2</dd>\n",
       "</dl>\n"
      ],
      "text/latex": [
       "\\begin{description*}\n",
       "\\item[PassengerId] 0\n",
       "\\item[Survived] 0\n",
       "\\item[Pclass] 0\n",
       "\\item[Name] 0\n",
       "\\item[Sex] 0\n",
       "\\item[Age] 177\n",
       "\\item[SibSp] 0\n",
       "\\item[Parch] 0\n",
       "\\item[Ticket] 0\n",
       "\\item[Fare] 0\n",
       "\\item[Cabin] 687\n",
       "\\item[Embarked] 2\n",
       "\\end{description*}\n"
      ],
      "text/markdown": [
       "PassengerId\n",
       ":   0Survived\n",
       ":   0Pclass\n",
       ":   0Name\n",
       ":   0Sex\n",
       ":   0Age\n",
       ":   177SibSp\n",
       ":   0Parch\n",
       ":   0Ticket\n",
       ":   0Fare\n",
       ":   0Cabin\n",
       ":   687Embarked\n",
       ":   2\n",
       "\n"
      ],
      "text/plain": [
       "PassengerId    Survived      Pclass        Name         Sex         Age \n",
       "          0           0           0           0           0         177 \n",
       "      SibSp       Parch      Ticket        Fare       Cabin    Embarked \n",
       "          0           0           0           0         687           2 "
      ]
     },
     "metadata": {},
     "output_type": "display_data"
    }
   ],
   "source": [
    "map_dbl(df, ~sum(is.na(.x)))"
   ]
  },
  {
   "cell_type": "markdown",
   "metadata": {},
   "source": [
    "Cabin and age have a significant amount of missing observations. Check zero variance variables, i.e. ones that have almost no information. "
   ]
  },
  {
   "cell_type": "code",
   "execution_count": 4,
   "metadata": {},
   "outputs": [
    {
     "name": "stdout",
     "output_type": "stream",
     "text": [
      "integer(0)\n"
     ]
    }
   ],
   "source": [
    "print(nearZeroVar(df))"
   ]
  },
  {
   "cell_type": "markdown",
   "metadata": {},
   "source": [
    "Correlations of continuous predictors without missing observations."
   ]
  },
  {
   "cell_type": "code",
   "execution_count": 5,
   "metadata": {},
   "outputs": [
    {
     "data": {
      "image/png": "[encoded data removed]",
      "text/plain": [
       "Plot with title \"\""
      ]
     },
     "metadata": {},
     "output_type": "display_data"
    }
   ],
   "source": [
    "correlations <- cor(df %>% \n",
    "                      select(Age, SibSp, Parch, Fare) %>%\n",
    "                       filter(!is.na(Age)))\n",
    "corrplot.mixed(correlations)"
   ]
  },
  {
   "cell_type": "markdown",
   "metadata": {},
   "source": [
    "There is no correlation with a larger magnitude than $\\frac{1}{2}$, so there is no need to eliminate a predictor. \n",
    "\n",
    "## Target Value: Survived"
   ]
  },
  {
   "cell_type": "code",
   "execution_count": 6,
   "metadata": {},
   "outputs": [
    {
     "data": {
      "text/html": [
       "0"
      ],
      "text/latex": [
       "0"
      ],
      "text/markdown": [
       "0"
      ],
      "text/plain": [
       "[1] 0"
      ]
     },
     "metadata": {},
     "output_type": "display_data"
    }
   ],
   "source": [
    "sum(is.na(df$Survived))"
   ]
  },
  {
   "cell_type": "code",
   "execution_count": 7,
   "metadata": {},
   "outputs": [
    {
     "data": {
      "image/png": "[encoded data removed]",
      "text/plain": [
       "plot without title"
      ]
     },
     "metadata": {},
     "output_type": "display_data"
    }
   ],
   "source": [
    "ggplot(df, aes(Survived)) + \n",
    "  geom_bar() +\n",
    "  theme_bw()"
   ]
  },
  {
   "cell_type": "code",
   "execution_count": 8,
   "metadata": {},
   "outputs": [
    {
     "data": {
      "text/plain": [
       "\n",
       "        0         1 \n",
       "0.6161616 0.3838384 "
      ]
     },
     "metadata": {},
     "output_type": "display_data"
    }
   ],
   "source": [
    "prop.table(table(df$Survived))"
   ]
  },
  {
   "cell_type": "markdown",
   "metadata": {},
   "source": [
    "I say that the dataset is balanced."
   ]
  },
  {
   "cell_type": "markdown",
   "metadata": {},
   "source": [
    "## Categorial Predictors\n",
    "### Sex"
   ]
  },
  {
   "cell_type": "code",
   "execution_count": 9,
   "metadata": {},
   "outputs": [
    {
     "data": {
      "text/html": [
       "<dl class=dl-horizontal>\n",
       "\t<dt>female</dt>\n",
       "\t\t<dd>314</dd>\n",
       "\t<dt>male</dt>\n",
       "\t\t<dd>577</dd>\n",
       "</dl>\n"
      ],
      "text/latex": [
       "\\begin{description*}\n",
       "\\item[female] 314\n",
       "\\item[male] 577\n",
       "\\end{description*}\n"
      ],
      "text/markdown": [
       "female\n",
       ":   314male\n",
       ":   577\n",
       "\n"
      ],
      "text/plain": [
       "female   male \n",
       "   314    577 "
      ]
     },
     "metadata": {},
     "output_type": "display_data"
    },
    {
     "data": {
      "image/png": "[encoded data removed]",
      "text/plain": [
       "plot without title"
      ]
     },
     "metadata": {},
     "output_type": "display_data"
    }
   ],
   "source": [
    "summary(df$Sex)\n",
    "\n",
    "ggplot(df, aes(Sex)) + \n",
    "  geom_bar() +\n",
    "  theme_bw()"
   ]
  },
  {
   "cell_type": "code",
   "execution_count": 10,
   "metadata": {},
   "outputs": [
    {
     "data": {
      "text/plain": [
       "        \n",
       "           0   1\n",
       "  female  81 233\n",
       "  male   468 109"
      ]
     },
     "metadata": {},
     "output_type": "display_data"
    },
    {
     "data": {
      "text/plain": [
       "        \n",
       "            0    1\n",
       "  female 0.26 0.74\n",
       "  male   0.81 0.19"
      ]
     },
     "metadata": {},
     "output_type": "display_data"
    },
    {
     "data": {
      "image/png": "[encoded data removed]",
      "text/plain": [
       "plot without title"
      ]
     },
     "metadata": {},
     "output_type": "display_data"
    }
   ],
   "source": [
    "(table_absolute <- table(df$Sex, df$Survived))\n",
    "round((table_relative <- prop.table(table_absolute, 1)), 2)\n",
    "\n",
    "ggplot(df, aes(x = Sex, fill = Survived)) + \n",
    "   geom_bar(position=position_dodge()) +\n",
    "scale_fill_brewer(palette=\"Set1\")+\n",
    "  theme_bw()"
   ]
  },
  {
   "cell_type": "code",
   "execution_count": 11,
   "metadata": {},
   "outputs": [
    {
     "data": {
      "text/plain": [
       "\n",
       "\t2-sample test for equality of proportions with continuity correction\n",
       "\n",
       "data:  table_absolute\n",
       "X-squared = 260.72, df = 1, p-value < 2.2e-16\n",
       "alternative hypothesis: two.sided\n",
       "95 percent confidence interval:\n",
       " -0.6135708 -0.4926894\n",
       "sample estimates:\n",
       "   prop 1    prop 2 \n",
       "0.2579618 0.8110919 \n"
      ]
     },
     "metadata": {},
     "output_type": "display_data"
    }
   ],
   "source": [
    "prop.test(table_absolute)"
   ]
  },
  {
   "cell_type": "markdown",
   "metadata": {},
   "source": [
    "### Pclass"
   ]
  },
  {
   "cell_type": "code",
   "execution_count": 12,
   "metadata": {},
   "outputs": [
    {
     "data": {
      "text/html": [
       "<dl class=dl-horizontal>\n",
       "\t<dt>1</dt>\n",
       "\t\t<dd>216</dd>\n",
       "\t<dt>2</dt>\n",
       "\t\t<dd>184</dd>\n",
       "\t<dt>3</dt>\n",
       "\t\t<dd>491</dd>\n",
       "</dl>\n"
      ],
      "text/latex": [
       "\\begin{description*}\n",
       "\\item[1] 216\n",
       "\\item[2] 184\n",
       "\\item[3] 491\n",
       "\\end{description*}\n"
      ],
      "text/markdown": [
       "1\n",
       ":   2162\n",
       ":   1843\n",
       ":   491\n",
       "\n"
      ],
      "text/plain": [
       "  1   2   3 \n",
       "216 184 491 "
      ]
     },
     "metadata": {},
     "output_type": "display_data"
    },
    {
     "data": {
      "image/png": "[encoded data removed]",
      "text/plain": [
       "plot without title"
      ]
     },
     "metadata": {},
     "output_type": "display_data"
    }
   ],
   "source": [
    "summary(df$Pclass)\n",
    "\n",
    "ggplot(df, aes(Pclass)) + \n",
    "  geom_bar() +\n",
    "  theme_bw()"
   ]
  },
  {
   "cell_type": "code",
   "execution_count": 13,
   "metadata": {},
   "outputs": [
    {
     "data": {
      "text/plain": [
       "   \n",
       "      0   1\n",
       "  1  80 136\n",
       "  2  97  87\n",
       "  3 372 119"
      ]
     },
     "metadata": {},
     "output_type": "display_data"
    },
    {
     "data": {
      "text/plain": [
       "   \n",
       "       0    1\n",
       "  1 0.37 0.63\n",
       "  2 0.53 0.47\n",
       "  3 0.76 0.24"
      ]
     },
     "metadata": {},
     "output_type": "display_data"
    },
    {
     "data": {
      "image/png": "[encoded data removed]",
      "text/plain": [
       "plot without title"
      ]
     },
     "metadata": {},
     "output_type": "display_data"
    }
   ],
   "source": [
    "(table_absolute <- table(df$Pclass, df$Survived))\n",
    "round((table_relative <- prop.table(table_absolute, 1)), 2)\n",
    "\n",
    "ggplot(df, aes(x = Pclass, fill = Survived)) + \n",
    "   geom_bar(position=position_dodge()) +\n",
    "scale_fill_brewer(palette=\"Set1\")+\n",
    "  theme_bw()"
   ]
  },
  {
   "cell_type": "code",
   "execution_count": 14,
   "metadata": {},
   "outputs": [
    {
     "data": {
      "text/plain": [
       "\n",
       "\t3-sample test for equality of proportions without continuity\n",
       "\tcorrection\n",
       "\n",
       "data:  table_absolute\n",
       "X-squared = 102.89, df = 2, p-value < 2.2e-16\n",
       "alternative hypothesis: two.sided\n",
       "sample estimates:\n",
       "   prop 1    prop 2    prop 3 \n",
       "0.3703704 0.5271739 0.7576375 \n"
      ]
     },
     "metadata": {},
     "output_type": "display_data"
    }
   ],
   "source": [
    "prop.test(table_absolute)"
   ]
  },
  {
   "cell_type": "markdown",
   "metadata": {},
   "source": [
    "### Embarked"
   ]
  },
  {
   "cell_type": "code",
   "execution_count": 15,
   "metadata": {},
   "outputs": [
    {
     "data": {
      "text/html": [
       "<dl class=dl-horizontal>\n",
       "\t<dt>C</dt>\n",
       "\t\t<dd>168</dd>\n",
       "\t<dt>Q</dt>\n",
       "\t\t<dd>77</dd>\n",
       "\t<dt>S</dt>\n",
       "\t\t<dd>644</dd>\n",
       "\t<dt>NA's</dt>\n",
       "\t\t<dd>2</dd>\n",
       "</dl>\n"
      ],
      "text/latex": [
       "\\begin{description*}\n",
       "\\item[C] 168\n",
       "\\item[Q] 77\n",
       "\\item[S] 644\n",
       "\\item[NA's] 2\n",
       "\\end{description*}\n"
      ],
      "text/markdown": [
       "C\n",
       ":   168Q\n",
       ":   77S\n",
       ":   644NA's\n",
       ":   2\n",
       "\n"
      ],
      "text/plain": [
       "   C    Q    S NA's \n",
       " 168   77  644    2 "
      ]
     },
     "metadata": {},
     "output_type": "display_data"
    },
    {
     "data": {
      "image/png": "[encoded data removed]",
      "text/plain": [
       "plot without title"
      ]
     },
     "metadata": {},
     "output_type": "display_data"
    }
   ],
   "source": [
    "summary(df$Embarked)\n",
    "\n",
    "ggplot(df, aes(Embarked)) + \n",
    "  geom_bar() +\n",
    "  theme_bw()"
   ]
  },
  {
   "cell_type": "markdown",
   "metadata": {},
   "source": [
    "I will impute the missing values with `S`."
   ]
  },
  {
   "cell_type": "code",
   "execution_count": 16,
   "metadata": {},
   "outputs": [
    {
     "data": {
      "text/plain": [
       "   \n",
       "      0   1\n",
       "  C  75  93\n",
       "  Q  47  30\n",
       "  S 427 219"
      ]
     },
     "metadata": {},
     "output_type": "display_data"
    },
    {
     "data": {
      "text/plain": [
       "   \n",
       "       0    1\n",
       "  C 0.45 0.55\n",
       "  Q 0.61 0.39\n",
       "  S 0.66 0.34"
      ]
     },
     "metadata": {},
     "output_type": "display_data"
    },
    {
     "data": {
      "image/png": "[encoded data removed]",
      "text/plain": [
       "plot without title"
      ]
     },
     "metadata": {},
     "output_type": "display_data"
    }
   ],
   "source": [
    "df$Embarked[is.na(df$Embarked)] <- \"S\"\n",
    "\n",
    "(table_absolute <- table(df$Embarked, df$Survived))\n",
    "round((table_relative <- prop.table(table_absolute, 1)), 2)\n",
    "\n",
    "ggplot(df, aes(x = Embarked, fill = Survived)) + \n",
    "   geom_bar(position=position_dodge()) +\n",
    "scale_fill_brewer(palette=\"Set1\")+\n",
    "  theme_bw()"
   ]
  },
  {
   "cell_type": "code",
   "execution_count": 17,
   "metadata": {},
   "outputs": [
    {
     "data": {
      "text/plain": [
       "\n",
       "\t3-sample test for equality of proportions without continuity\n",
       "\tcorrection\n",
       "\n",
       "data:  table_absolute\n",
       "X-squared = 25.964, df = 2, p-value = 2.301e-06\n",
       "alternative hypothesis: two.sided\n",
       "sample estimates:\n",
       "   prop 1    prop 2    prop 3 \n",
       "0.4464286 0.6103896 0.6609907 \n"
      ]
     },
     "metadata": {},
     "output_type": "display_data"
    }
   ],
   "source": [
    "prop.test(table_absolute)"
   ]
  },
  {
   "cell_type": "markdown",
   "metadata": {},
   "source": [
    "## Continuous Predictors\n",
    "### Fare"
   ]
  },
  {
   "cell_type": "code",
   "execution_count": 18,
   "metadata": {},
   "outputs": [
    {
     "data": {
      "text/plain": [
       "   Min. 1st Qu.  Median    Mean 3rd Qu.    Max. \n",
       "   0.00    7.91   14.45   32.20   31.00  512.33 "
      ]
     },
     "metadata": {},
     "output_type": "display_data"
    }
   ],
   "source": [
    "summary(df$Fare)"
   ]
  },
  {
   "cell_type": "code",
   "execution_count": 19,
   "metadata": {},
   "outputs": [
    {
     "data": {
      "image/png": "[encoded data removed]",
      "text/plain": [
       "plot without title"
      ]
     },
     "metadata": {},
     "output_type": "display_data"
    }
   ],
   "source": [
    "ggplot(df, aes(Fare)) + \n",
    "    geom_density(kernel = \"gaussian\") + \n",
    "    theme_bw()"
   ]
  },
  {
   "cell_type": "code",
   "execution_count": 20,
   "metadata": {},
   "outputs": [
    {
     "data": {
      "text/html": [
       "4.77925329237235"
      ],
      "text/latex": [
       "4.77925329237235"
      ],
      "text/markdown": [
       "4.77925329237235"
      ],
      "text/plain": [
       "[1] 4.779253"
      ]
     },
     "metadata": {},
     "output_type": "display_data"
    }
   ],
   "source": [
    "skewness(df$Fare, na.rm = TRUE, type = 1)"
   ]
  },
  {
   "cell_type": "markdown",
   "metadata": {},
   "source": [
    "Fare is prettey skewed and so i wanted to apply a log and box cox tranformation and compare which reduces the most of the skewness. These tranformations work only when Fare is not zero. I decided to just do a square root transformation for the moment."
   ]
  },
  {
   "cell_type": "code",
   "execution_count": 21,
   "metadata": {},
   "outputs": [
    {
     "data": {
      "text/html": [
       "2.08149266699859"
      ],
      "text/latex": [
       "2.08149266699859"
      ],
      "text/markdown": [
       "2.08149266699859"
      ],
      "text/plain": [
       "[1] 2.081493"
      ]
     },
     "metadata": {},
     "output_type": "display_data"
    },
    {
     "data": {
      "image/png": "[encoded data removed]",
      "text/plain": [
       "plot without title"
      ]
     },
     "metadata": {},
     "output_type": "display_data"
    }
   ],
   "source": [
    "skewness(sqrt(df$Fare), na.rm = TRUE, type = 1)\n",
    "ggplot(df, aes(sqrt(Fare))) + \n",
    "    geom_density(kernel = \"gaussian\") + \n",
    "    theme_bw()"
   ]
  },
  {
   "cell_type": "code",
   "execution_count": 22,
   "metadata": {},
   "outputs": [
    {
     "data": {
      "image/png": "[encoded data removed]",
      "text/plain": [
       "plot without title"
      ]
     },
     "metadata": {},
     "output_type": "display_data"
    }
   ],
   "source": [
    "ggplot(df, aes(sqrt(Fare), color = Survived,  fill = Survived)) + \n",
    "    geom_density(kernel = \"gaussian\", alpha = 0.05) +\n",
    "    theme_bw()"
   ]
  },
  {
   "cell_type": "code",
   "execution_count": 23,
   "metadata": {},
   "outputs": [
    {
     "data": {
      "image/png": "[encoded data removed]",
      "text/plain": [
       "plot without title"
      ]
     },
     "metadata": {},
     "output_type": "display_data"
    }
   ],
   "source": [
    "ggplot(df)+\n",
    "    geom_boxplot(aes(Survived, Fare)) + \n",
    "    geom_jitter(aes(Survived, Fare), width = 0.2, alpha = 0.05) +\n",
    "    theme_bw()"
   ]
  },
  {
   "cell_type": "markdown",
   "metadata": {},
   "source": [
    "Same plot without extreme vaules. "
   ]
  },
  {
   "cell_type": "code",
   "execution_count": 24,
   "metadata": {},
   "outputs": [
    {
     "data": {
      "image/png": "[encoded data removed]",
      "text/plain": [
       "plot without title"
      ]
     },
     "metadata": {},
     "output_type": "display_data"
    }
   ],
   "source": [
    "ggplot(df %>% filter(Fare < 200))+\n",
    "    geom_boxplot(aes(Survived, Fare)) + \n",
    "    geom_jitter(aes(Survived, Fare), width = 0.2, alpha = 0.05) +\n",
    "    theme_bw()"
   ]
  },
  {
   "cell_type": "code",
   "execution_count": 25,
   "metadata": {},
   "outputs": [
    {
     "data": {
      "text/plain": [
       "\n",
       "\tWelch Two Sample t-test\n",
       "\n",
       "data:  df$Fare[df$Survived == 0] and df$Fare[df$Survived == 1]\n",
       "t = -6.8391, df = 436.7, p-value = 2.699e-11\n",
       "alternative hypothesis: true difference in means is not equal to 0\n",
       "95 percent confidence interval:\n",
       " -33.82912 -18.72592\n",
       "sample estimates:\n",
       "mean of x mean of y \n",
       " 22.11789  48.39541 \n"
      ]
     },
     "metadata": {},
     "output_type": "display_data"
    }
   ],
   "source": [
    "t.test(x = df$Fare[df$Survived == 0], y = df$Fare[df$Survived == 1], var.equal = FALSE)"
   ]
  },
  {
   "cell_type": "markdown",
   "metadata": {},
   "source": [
    "### Age"
   ]
  },
  {
   "cell_type": "code",
   "execution_count": 26,
   "metadata": {},
   "outputs": [
    {
     "data": {
      "text/plain": [
       "   Min. 1st Qu.  Median    Mean 3rd Qu.    Max.    NA's \n",
       "   0.42   20.12   28.00   29.70   38.00   80.00     177 "
      ]
     },
     "metadata": {},
     "output_type": "display_data"
    }
   ],
   "source": [
    "summary(df$Age)"
   ]
  },
  {
   "cell_type": "code",
   "execution_count": 27,
   "metadata": {},
   "outputs": [
    {
     "name": "stderr",
     "output_type": "stream",
     "text": [
      "Warning message:\n",
      "\"Removed 177 rows containing non-finite values (stat_density).\""
     ]
    },
    {
     "data": {
      "image/png": "[encoded data removed]",
      "text/plain": [
       "plot without title"
      ]
     },
     "metadata": {},
     "output_type": "display_data"
    }
   ],
   "source": [
    "ggplot(df, aes(Age)) + \n",
    "    geom_density(kernel = \"gaussian\") + \n",
    "    theme_bw()"
   ]
  },
  {
   "cell_type": "code",
   "execution_count": 28,
   "metadata": {},
   "outputs": [
    {
     "data": {
      "text/html": [
       "0.388289851469865"
      ],
      "text/latex": [
       "0.388289851469865"
      ],
      "text/markdown": [
       "0.388289851469865"
      ],
      "text/plain": [
       "[1] 0.3882899"
      ]
     },
     "metadata": {},
     "output_type": "display_data"
    }
   ],
   "source": [
    "skewness(df$Age, na.rm = TRUE, type = 1)"
   ]
  },
  {
   "cell_type": "code",
   "execution_count": 29,
   "metadata": {},
   "outputs": [
    {
     "name": "stderr",
     "output_type": "stream",
     "text": [
      "Warning message:\n",
      "\"Removed 177 rows containing non-finite values (stat_density).\""
     ]
    },
    {
     "data": {
      "image/png": "[encoded data removed]",
      "text/plain": [
       "plot without title"
      ]
     },
     "metadata": {},
     "output_type": "display_data"
    }
   ],
   "source": [
    "ggplot(df, aes(Age, color = Survived,  fill = Survived)) + \n",
    "    geom_density(kernel = \"gaussian\", alpha = 0.05) +\n",
    "    theme_bw()"
   ]
  },
  {
   "cell_type": "code",
   "execution_count": 30,
   "metadata": {},
   "outputs": [
    {
     "name": "stderr",
     "output_type": "stream",
     "text": [
      "Warning message:\n",
      "\"Removed 177 rows containing non-finite values (stat_boxplot).\"Warning message:\n",
      "\"Removed 177 rows containing missing values (geom_point).\""
     ]
    },
    {
     "data": {
      "image/png": "[encoded data removed]",
      "text/plain": [
       "plot without title"
      ]
     },
     "metadata": {},
     "output_type": "display_data"
    }
   ],
   "source": [
    "ggplot(df)+\n",
    "    geom_boxplot(aes(Survived, Age)) + \n",
    "    geom_jitter(aes(Survived, Age), width = 0.2, alpha = 0.05) +\n",
    "    theme_bw()"
   ]
  },
  {
   "cell_type": "code",
   "execution_count": 31,
   "metadata": {},
   "outputs": [
    {
     "data": {
      "text/plain": [
       "\n",
       "\tWelch Two Sample t-test\n",
       "\n",
       "data:  df$Age[df$Survived == 0] and df$Age[df$Survived == 1]\n",
       "t = 2.046, df = 598.84, p-value = 0.04119\n",
       "alternative hypothesis: true difference in means is not equal to 0\n",
       "95 percent confidence interval:\n",
       " 0.09158472 4.47339446\n",
       "sample estimates:\n",
       "mean of x mean of y \n",
       " 30.62618  28.34369 \n"
      ]
     },
     "metadata": {},
     "output_type": "display_data"
    }
   ],
   "source": [
    "t.test(x = df$Age[df$Survived == 0], y = df$Age[df$Survived == 1], var.equal = FALSE)"
   ]
  },
  {
   "cell_type": "markdown",
   "metadata": {},
   "source": [
    "Let's take car of the missing vaules. I will impute these with 5-knn. At the moment this is somekind of a workaround, i have to figure out how to do this right when is use the `train` function and don't want so center and scale the variable."
   ]
  },
  {
   "cell_type": "code",
   "execution_count": 32,
   "metadata": {},
   "outputs": [
    {
     "data": {
      "text/html": [
       "<table>\n",
       "<thead><tr><th scope=col>Age</th><th scope=col>AgeImputed</th></tr></thead>\n",
       "<tbody>\n",
       "\t<tr><td>22  </td><td>22.0</td></tr>\n",
       "\t<tr><td>38  </td><td>38.0</td></tr>\n",
       "\t<tr><td>26  </td><td>26.0</td></tr>\n",
       "\t<tr><td>35  </td><td>35.0</td></tr>\n",
       "\t<tr><td>35  </td><td>35.0</td></tr>\n",
       "\t<tr><td>NA  </td><td>24.8</td></tr>\n",
       "\t<tr><td>54  </td><td>54.0</td></tr>\n",
       "\t<tr><td> 2  </td><td> 2.0</td></tr>\n",
       "\t<tr><td>27  </td><td>27.0</td></tr>\n",
       "\t<tr><td>14  </td><td>14.0</td></tr>\n",
       "</tbody>\n",
       "</table>\n"
      ],
      "text/latex": [
       "\\begin{tabular}{r|ll}\n",
       " Age & AgeImputed\\\\\n",
       "\\hline\n",
       "\t 22   & 22.0\\\\\n",
       "\t 38   & 38.0\\\\\n",
       "\t 26   & 26.0\\\\\n",
       "\t 35   & 35.0\\\\\n",
       "\t 35   & 35.0\\\\\n",
       "\t NA   & 24.8\\\\\n",
       "\t 54   & 54.0\\\\\n",
       "\t  2   &  2.0\\\\\n",
       "\t 27   & 27.0\\\\\n",
       "\t 14   & 14.0\\\\\n",
       "\\end{tabular}\n"
      ],
      "text/markdown": [
       "\n",
       "| Age | AgeImputed |\n",
       "|---|---|\n",
       "| 22   | 22.0 |\n",
       "| 38   | 38.0 |\n",
       "| 26   | 26.0 |\n",
       "| 35   | 35.0 |\n",
       "| 35   | 35.0 |\n",
       "| NA   | 24.8 |\n",
       "| 54   | 54.0 |\n",
       "|  2   |  2.0 |\n",
       "| 27   | 27.0 |\n",
       "| 14   | 14.0 |\n",
       "\n"
      ],
      "text/plain": [
       "   Age AgeImputed\n",
       "1  22  22.0      \n",
       "2  38  38.0      \n",
       "3  26  26.0      \n",
       "4  35  35.0      \n",
       "5  35  35.0      \n",
       "6  NA  24.8      \n",
       "7  54  54.0      \n",
       "8   2   2.0      \n",
       "9  27  27.0      \n",
       "10 14  14.0      "
      ]
     },
     "metadata": {},
     "output_type": "display_data"
    }
   ],
   "source": [
    "df_impute <- df %>% select(-PassengerId, -Ticket, -Name, -Cabin, -Survived)\n",
    "\n",
    "mean_age = mean(df$Age, na.rm = TRUE)\n",
    "sd_age = sd(df$Age, na.rm = TRUE)\n",
    "\n",
    "\n",
    "fit  <- preProcess(df_impute, method = c(\"center\", \"scale\", \"knnImpute\"), k = 5)\n",
    "df_imputed <- predict(fit, df_impute)\n",
    "\n",
    "\n",
    "df <- df %>%\n",
    "  mutate(AgeImputed = df_imputed$Age * sd_age + mean_age)\n",
    "\n",
    "head(df %>% select(Age, AgeImputed), n = 10)"
   ]
  },
  {
   "cell_type": "markdown",
   "metadata": {},
   "source": [
    "### SibSp"
   ]
  },
  {
   "cell_type": "code",
   "execution_count": 33,
   "metadata": {},
   "outputs": [
    {
     "data": {
      "text/plain": [
       "   Min. 1st Qu.  Median    Mean 3rd Qu.    Max. \n",
       "  0.000   0.000   0.000   0.523   1.000   8.000 "
      ]
     },
     "metadata": {},
     "output_type": "display_data"
    }
   ],
   "source": [
    "summary(df$SibSp)"
   ]
  },
  {
   "cell_type": "code",
   "execution_count": 34,
   "metadata": {},
   "outputs": [
    {
     "data": {
      "image/png": "[encoded data removed]",
      "text/plain": [
       "plot without title"
      ]
     },
     "metadata": {},
     "output_type": "display_data"
    }
   ],
   "source": [
    "ggplot(df, aes(SibSp)) + \n",
    "    geom_bar() + \n",
    "    theme_bw()"
   ]
  },
  {
   "cell_type": "code",
   "execution_count": 35,
   "metadata": {},
   "outputs": [
    {
     "data": {
      "text/plain": [
       "   \n",
       "      0   1\n",
       "  0 398 210\n",
       "  1  97 112\n",
       "  2  15  13\n",
       "  3  12   4\n",
       "  4  15   3\n",
       "  5   5   0\n",
       "  8   7   0"
      ]
     },
     "metadata": {},
     "output_type": "display_data"
    },
    {
     "data": {
      "text/plain": [
       "   \n",
       "       0    1\n",
       "  0 0.65 0.35\n",
       "  1 0.46 0.54\n",
       "  2 0.54 0.46\n",
       "  3 0.75 0.25\n",
       "  4 0.83 0.17\n",
       "  5 1.00 0.00\n",
       "  8 1.00 0.00"
      ]
     },
     "metadata": {},
     "output_type": "display_data"
    },
    {
     "data": {
      "image/png": "[encoded data removed]",
      "text/plain": [
       "plot without title"
      ]
     },
     "metadata": {},
     "output_type": "display_data"
    }
   ],
   "source": [
    "(table_absolute <- table(df$SibSp, df$Survived))\n",
    "round((table_relative <- prop.table(table_absolute, 1)), 2)\n",
    "\n",
    "ggplot(df, aes(x = SibSp, fill = Survived)) + \n",
    "   geom_bar(position=position_dodge()) +\n",
    "scale_fill_brewer(palette=\"Set1\")+\n",
    "  theme_bw()"
   ]
  },
  {
   "cell_type": "code",
   "execution_count": 36,
   "metadata": {},
   "outputs": [
    {
     "name": "stderr",
     "output_type": "stream",
     "text": [
      "Warning message in prop.test(table_absolute):\n",
      "\"Chi-squared approximation may be incorrect\""
     ]
    },
    {
     "data": {
      "text/plain": [
       "\n",
       "\t7-sample test for equality of proportions without continuity\n",
       "\tcorrection\n",
       "\n",
       "data:  table_absolute\n",
       "X-squared = 37.272, df = 6, p-value = 1.559e-06\n",
       "alternative hypothesis: two.sided\n",
       "sample estimates:\n",
       "   prop 1    prop 2    prop 3    prop 4    prop 5    prop 6    prop 7 \n",
       "0.6546053 0.4641148 0.5357143 0.7500000 0.8333333 1.0000000 1.0000000 \n"
      ]
     },
     "metadata": {},
     "output_type": "display_data"
    }
   ],
   "source": [
    "prop.test(table_absolute)"
   ]
  },
  {
   "cell_type": "markdown",
   "metadata": {},
   "source": [
    "### Parch"
   ]
  },
  {
   "cell_type": "code",
   "execution_count": 37,
   "metadata": {},
   "outputs": [
    {
     "data": {
      "text/plain": [
       "   Min. 1st Qu.  Median    Mean 3rd Qu.    Max. \n",
       " 0.0000  0.0000  0.0000  0.3816  0.0000  6.0000 "
      ]
     },
     "metadata": {},
     "output_type": "display_data"
    }
   ],
   "source": [
    "summary(df$Parch)"
   ]
  },
  {
   "cell_type": "code",
   "execution_count": 38,
   "metadata": {},
   "outputs": [
    {
     "data": {
      "image/png": "[encoded data removed]",
      "text/plain": [
       "plot without title"
      ]
     },
     "metadata": {},
     "output_type": "display_data"
    }
   ],
   "source": [
    "ggplot(df, aes(Parch)) + \n",
    "    geom_bar() + \n",
    "    theme_bw()"
   ]
  },
  {
   "cell_type": "code",
   "execution_count": 39,
   "metadata": {},
   "outputs": [
    {
     "data": {
      "text/plain": [
       "   \n",
       "      0   1\n",
       "  0 445 233\n",
       "  1  53  65\n",
       "  2  40  40\n",
       "  3   2   3\n",
       "  4   4   0\n",
       "  5   4   1\n",
       "  6   1   0"
      ]
     },
     "metadata": {},
     "output_type": "display_data"
    },
    {
     "data": {
      "text/plain": [
       "   \n",
       "       0    1\n",
       "  0 0.66 0.34\n",
       "  1 0.45 0.55\n",
       "  2 0.50 0.50\n",
       "  3 0.40 0.60\n",
       "  4 1.00 0.00\n",
       "  5 0.80 0.20\n",
       "  6 1.00 0.00"
      ]
     },
     "metadata": {},
     "output_type": "display_data"
    },
    {
     "data": {
      "image/png": "[encoded data removed]",
      "text/plain": [
       "plot without title"
      ]
     },
     "metadata": {},
     "output_type": "display_data"
    }
   ],
   "source": [
    "(table_absolute <- table(df$Parch, df$Survived))\n",
    "round((table_relative <- prop.table(table_absolute, 1)), 2)\n",
    "\n",
    "ggplot(df, aes(x = Parch, fill = Survived)) + \n",
    "   geom_bar(position=position_dodge()) +\n",
    "scale_fill_brewer(palette=\"Set1\")+\n",
    "  theme_bw()"
   ]
  },
  {
   "cell_type": "code",
   "execution_count": 40,
   "metadata": {},
   "outputs": [
    {
     "name": "stderr",
     "output_type": "stream",
     "text": [
      "Warning message in prop.test(table_absolute):\n",
      "\"Chi-squared approximation may be incorrect\""
     ]
    },
    {
     "data": {
      "text/plain": [
       "\n",
       "\t7-sample test for equality of proportions without continuity\n",
       "\tcorrection\n",
       "\n",
       "data:  table_absolute\n",
       "X-squared = 27.926, df = 6, p-value = 9.704e-05\n",
       "alternative hypothesis: two.sided\n",
       "sample estimates:\n",
       "   prop 1    prop 2    prop 3    prop 4    prop 5    prop 6    prop 7 \n",
       "0.6563422 0.4491525 0.5000000 0.4000000 1.0000000 0.8000000 1.0000000 \n"
      ]
     },
     "metadata": {},
     "output_type": "display_data"
    }
   ],
   "source": [
    "prop.test(table_absolute)"
   ]
  },
  {
   "cell_type": "markdown",
   "metadata": {},
   "source": [
    "## Feature Engineering\n",
    "### Name \n",
    "I will extract the title of the person and group it."
   ]
  },
  {
   "cell_type": "code",
   "execution_count": 41,
   "metadata": {},
   "outputs": [
    {
     "data": {
      "image/png": "[encoded data removed]",
      "text/plain": [
       "plot without title"
      ]
     },
     "metadata": {},
     "output_type": "display_data"
    }
   ],
   "source": [
    "ex <- \"[a-zA-Z]*\\\\.\"\n",
    "df_title <- df %>%\n",
    "  mutate(Title = str_extract(Name, ex),\n",
    "         Title = factor(Title))\n",
    "ggplot(df_title, aes(Title)) +\n",
    "  geom_bar() +\n",
    "  theme_bw() +\n",
    "theme(axis.text.x = element_text(angle = 90))"
   ]
  },
  {
   "cell_type": "code",
   "execution_count": 42,
   "metadata": {},
   "outputs": [
    {
     "data": {
      "image/png": "[encoded data removed]",
      "text/plain": [
       "plot without title"
      ]
     },
     "metadata": {},
     "output_type": "display_data"
    }
   ],
   "source": [
    "df_title <- df_title %>%\n",
    "  mutate(\n",
    "    TitleGroup = case_when(\n",
    "      str_detect(Title, \"(Mrs|Miss|Ms)\\\\.\") ~ \"Miss\",\n",
    "      str_detect(Title, \"(Mr)\\\\.\") ~ \"Mr\",\n",
    "      str_detect(Title, \"(Master)\\\\.\") ~ \"Master\",\n",
    "      TRUE ~ \"Special\"\n",
    "    ),\n",
    "    TitleGroup = factor(TitleGroup),\n",
    "    Survived = factor(Survived)\n",
    "  )\n",
    "\n",
    "ggplot(df_title)  +\n",
    "  geom_bar(aes(x = TitleGroup)) +\n",
    "  theme_bw()"
   ]
  },
  {
   "cell_type": "code",
   "execution_count": 43,
   "metadata": {},
   "outputs": [
    {
     "data": {
      "text/plain": [
       "\n",
       " Master    Miss      Mr Special \n",
       "     40     308     517      26 "
      ]
     },
     "metadata": {},
     "output_type": "display_data"
    },
    {
     "data": {
      "text/plain": [
       "         \n",
       "                  0         1\n",
       "  Master  0.4250000 0.5750000\n",
       "  Miss    0.2629870 0.7370130\n",
       "  Mr      0.8433269 0.1566731\n",
       "  Special 0.5769231 0.4230769"
      ]
     },
     "metadata": {},
     "output_type": "display_data"
    },
    {
     "name": "stdout",
     "output_type": "stream",
     "text": [
      "\n",
      "\t4-sample test for equality of proportions without continuity\n",
      "\tcorrection\n",
      "\n",
      "data:  table_abs\n",
      "X-squared = 281.59, df = 3, p-value < 2.2e-16\n",
      "alternative hypothesis: two.sided\n",
      "sample estimates:\n",
      "   prop 1    prop 2    prop 3    prop 4 \n",
      "0.4250000 0.2629870 0.8433269 0.5769231 \n",
      "\n"
     ]
    }
   ],
   "source": [
    "table(df_title$TitleGroup)\n",
    "table_abs <- table(df_title$TitleGroup, df_title$Survived)\n",
    "\n",
    "prop.table(table_abs, 1)\n",
    "\n",
    "test <- prop.test(table_abs)\n",
    "print(test)"
   ]
  },
  {
   "cell_type": "code",
   "execution_count": 44,
   "metadata": {},
   "outputs": [
    {
     "data": {
      "image/png": "[encoded data removed]",
      "text/plain": [
       "plot without title"
      ]
     },
     "metadata": {},
     "output_type": "display_data"
    }
   ],
   "source": [
    "boot_mean <- function(values,i) mean(values[i])\n",
    "alpha <- 0.05\n",
    "\n",
    "number_of_factors <- length(levels(df_title$TitleGroup))\n",
    "ymin <- vector(mode = \"numeric\", length = number_of_factors)\n",
    "ymax <- vector(mode = \"numeric\", length = number_of_factors)\n",
    "\n",
    "for(i in 1:number_of_factors) {\n",
    "  \n",
    "  factor_current <- levels(df_title$TitleGroup)[i]\n",
    "  \n",
    "  values <- df_title %>% \n",
    "    filter(TitleGroup == factor_current) %>% \n",
    "    select(Survived) %>% \n",
    "    mutate(as.integer(Survived) - 1) %>%\n",
    "    pull()\n",
    "  \n",
    "  fit <- boot(values, boot_mean, R = 100)\n",
    "  quantiles <- quantile(fit$t,c(alpha / 2, 1 - (alpha / 2)))\n",
    "  \n",
    "  ymin[i] <- quantiles[1]\n",
    "  ymax[i] <- quantiles[2]\n",
    "}\n",
    "\n",
    "\n",
    "df_plot <- df_title %>%\n",
    "  group_by(TitleGroup) %>%\n",
    "  summarise(count = n(),\n",
    "            prob = mean(as.numeric(Survived) - 1))   %>%\n",
    "  mutate(TitleGroup = fct_reorder(TitleGroup, prob, .desc = TRUE))\n",
    "\n",
    "ggplot(df_plot, aes(x = TitleGroup, y = prob)) + \n",
    "  geom_col(width = 0.75) + \n",
    "  geom_errorbar(ymin = ymin,\n",
    "                ymax = ymax,\n",
    "                width = .75) +\n",
    "  theme_bw() + \n",
    "  labs(\n",
    "    title = paste0(\"Survival Probabilities of factor TitleGroup with \", 1 - alpha, \" CI\"),\n",
    "    subtitle = paste0(\" p value of Test \\\"H0: probabilities are the same\\\": \", signif (test$p.value, 5))\n",
    "  ) +\n",
    "  ylim(c(0,1))"
   ]
  },
  {
   "cell_type": "markdown",
   "metadata": {},
   "source": [
    "### Cabin"
   ]
  },
  {
   "cell_type": "code",
   "execution_count": 45,
   "metadata": {},
   "outputs": [
    {
     "data": {
      "text/html": [
       "687"
      ],
      "text/latex": [
       "687"
      ],
      "text/markdown": [
       "687"
      ],
      "text/plain": [
       "[1] 687"
      ]
     },
     "metadata": {},
     "output_type": "display_data"
    }
   ],
   "source": [
    "sum(is.na(df$Cabin))\n",
    "\n",
    "df_cabin <- df %>% mutate(Cabin = ifelse(is.na(Cabin), \"Z\", Cabin ))"
   ]
  },
  {
   "cell_type": "code",
   "execution_count": 46,
   "metadata": {},
   "outputs": [
    {
     "data": {
      "image/png": "[encoded data removed]",
      "text/plain": [
       "plot without title"
      ]
     },
     "metadata": {},
     "output_type": "display_data"
    }
   ],
   "source": [
    "df_cabin <- df_cabin %>%\n",
    "  mutate(Cabin = str_sub(df$Cabin,1,1),\n",
    "         Cabin = factor(Cabin))\n",
    "\n",
    "ggplot(df_cabin, aes(Cabin)) +\n",
    "  geom_bar() +\n",
    "  theme_bw()"
   ]
  },
  {
   "cell_type": "markdown",
   "metadata": {},
   "source": [
    "Maybe combine?"
   ]
  },
  {
   "cell_type": "code",
   "execution_count": 47,
   "metadata": {},
   "outputs": [],
   "source": [
    "df_cabin <-  df_cabin %>%\n",
    "  mutate(\n",
    "    Cabin = str_sub(df$Cabin,1,1),\n",
    "    Cabin = case_when(\n",
    "      str_detect(Cabin, \"(D|E|B)\") ~ \"Top\",\n",
    "      str_detect(Cabin, \"(F|C|G|A|T)\") ~ \"AVG\",\n",
    "     #str_detect(Cabin, \"(Master)\\\\.\") ~ \"Master\",\n",
    "      TRUE ~ \"NotAv\"\n",
    "    ),\n",
    "    Cabin = factor(Cabin)\n",
    "  )"
   ]
  },
  {
   "cell_type": "code",
   "execution_count": 48,
   "metadata": {},
   "outputs": [
    {
     "data": {
      "text/plain": [
       "\n",
       "  AVG NotAv   Top \n",
       "   92   687   112 "
      ]
     },
     "metadata": {},
     "output_type": "display_data"
    },
    {
     "data": {
      "text/plain": [
       "       \n",
       "                0         1\n",
       "  AVG   0.4347826 0.5652174\n",
       "  NotAv 0.7001456 0.2998544\n",
       "  Top   0.2500000 0.7500000"
      ]
     },
     "metadata": {},
     "output_type": "display_data"
    },
    {
     "name": "stdout",
     "output_type": "stream",
     "text": [
      "\n",
      "\t3-sample test for equality of proportions without continuity\n",
      "\tcorrection\n",
      "\n",
      "data:  table_abs\n",
      "X-squared = 96.778, df = 2, p-value < 2.2e-16\n",
      "alternative hypothesis: two.sided\n",
      "sample estimates:\n",
      "   prop 1    prop 2    prop 3 \n",
      "0.4347826 0.7001456 0.2500000 \n",
      "\n"
     ]
    }
   ],
   "source": [
    "table(df_cabin$Cabin)\n",
    "table_abs <- table(df_cabin$Cabin, df_cabin$Survived)\n",
    "\n",
    "prop.table(table_abs, 1)\n",
    "\n",
    "test <- prop.test(table_abs)\n",
    "print(test)"
   ]
  },
  {
   "cell_type": "code",
   "execution_count": 49,
   "metadata": {},
   "outputs": [
    {
     "data": {
      "image/png": "[encoded data removed]",
      "text/plain": [
       "plot without title"
      ]
     },
     "metadata": {},
     "output_type": "display_data"
    }
   ],
   "source": [
    "\n",
    "boot_mean <- function(values,i) mean(values[i])\n",
    "alpha <- 0.05\n",
    "\n",
    "number_of_factors <- length(levels(df_cabin$Cabin))\n",
    "ymin <- vector(mode = \"numeric\", length = number_of_factors)\n",
    "ymax <- vector(mode = \"numeric\", length = number_of_factors)\n",
    "\n",
    "for(i in 1:number_of_factors) {\n",
    "  \n",
    "  factor_current <- levels(df_cabin$Cabin)[i]\n",
    "  \n",
    "  values <- df_cabin %>% \n",
    "    filter(Cabin == factor_current) %>% \n",
    "    select(Survived) %>% \n",
    "    mutate(as.integer(Survived) - 1) %>%\n",
    "    pull()\n",
    "  \n",
    "  fit <- boot(values, boot_mean, R = 100)\n",
    "  quantiles <- quantile(fit$t,c(alpha / 2, 1 - (alpha / 2)))\n",
    "  \n",
    "  ymin[i] <- quantiles[1]\n",
    "  ymax[i] <- quantiles[2]\n",
    "}\n",
    "\n",
    "\n",
    "df_plot <- df_cabin %>%\n",
    "  group_by(Cabin) %>%\n",
    "  summarise(count = n(),\n",
    "            prob = mean(as.numeric(Survived) - 1))   %>%\n",
    "  mutate(Cabin = fct_reorder(Cabin, prob, .desc = TRUE))\n",
    "\n",
    "\n",
    "ggplot(df_plot, aes(x = Cabin, y = prob)) + \n",
    "  geom_col(width = 0.75) + \n",
    "  geom_errorbar(ymin = ymin,\n",
    "                ymax = ymax,\n",
    "                width = .75) +\n",
    "  theme_bw() + \n",
    "  labs(\n",
    "    title = paste0(\"Survival Probabilities of factor TitleGroup with \", 1 - alpha, \" CI\"),\n",
    "    subtitle = paste0(\" p value of Test \\\"H0: probabilities are the same\\\": \", signif (test$p.value, 5))\n",
    "  ) +\n",
    "  ylim(c(0,1))\n",
    "\n"
   ]
  },
  {
   "cell_type": "markdown",
   "metadata": {},
   "source": [
    "### SibSp Parch"
   ]
  },
  {
   "cell_type": "code",
   "execution_count": 50,
   "metadata": {},
   "outputs": [
    {
     "data": {
      "image/png": "[encoded data removed]",
      "text/plain": [
       "plot without title"
      ]
     },
     "metadata": {},
     "output_type": "display_data"
    }
   ],
   "source": [
    "df_factor  <- df %>% \n",
    "  mutate(RelativesFriends = SibSp + Parch,\n",
    "         Survived = factor(Survived))\n",
    "\n",
    "ggplot(df_factor, aes(RelativesFriends)) +\n",
    "  geom_bar() +\n",
    "  theme_bw()"
   ]
  },
  {
   "cell_type": "code",
   "execution_count": 51,
   "metadata": {},
   "outputs": [
    {
     "data": {
      "image/png": "[encoded data removed]",
      "text/plain": [
       "plot without title"
      ]
     },
     "metadata": {},
     "output_type": "display_data"
    }
   ],
   "source": [
    "df_factor %<>%\n",
    "  mutate(RelativesFriends = case_when(\n",
    "    RelativesFriends == 0 ~ \"None\",\n",
    "    RelativesFriends  == 1 ~ \"One\",\n",
    "    TRUE ~ \"Large\"\n",
    "  ),\n",
    "  RelativesFriends = factor(RelativesFriends))\n",
    "\n",
    "\n",
    "ggplot(df_factor, aes(RelativesFriends)) +\n",
    "  geom_bar() +\n",
    "  theme_bw()"
   ]
  },
  {
   "cell_type": "code",
   "execution_count": 52,
   "metadata": {},
   "outputs": [
    {
     "data": {
      "text/plain": [
       "\n",
       "Large  None   One \n",
       "  193   537   161 "
      ]
     },
     "metadata": {},
     "output_type": "display_data"
    },
    {
     "data": {
      "text/plain": [
       "       \n",
       "                0         1\n",
       "  Large 0.5336788 0.4663212\n",
       "  None  0.6964618 0.3035382\n",
       "  One   0.4472050 0.5527950"
      ]
     },
     "metadata": {},
     "output_type": "display_data"
    },
    {
     "name": "stdout",
     "output_type": "stream",
     "text": [
      "\n",
      "\t3-sample test for equality of proportions without continuity\n",
      "\tcorrection\n",
      "\n",
      "data:  table_abs\n",
      "X-squared = 39.625, df = 2, p-value = 2.486e-09\n",
      "alternative hypothesis: two.sided\n",
      "sample estimates:\n",
      "   prop 1    prop 2    prop 3 \n",
      "0.5336788 0.6964618 0.4472050 \n",
      "\n"
     ]
    }
   ],
   "source": [
    "table(df_factor$RelativesFriends)\n",
    "table_abs <- table(df_factor$RelativesFriends, df_factor$Survived)\n",
    "\n",
    "prop.table(table_abs, 1)\n",
    "\n",
    "test <- prop.test(table_abs)\n",
    "print(test)"
   ]
  },
  {
   "cell_type": "code",
   "execution_count": 53,
   "metadata": {},
   "outputs": [
    {
     "data": {
      "image/png": "[encoded data removed]",
      "text/plain": [
       "plot without title"
      ]
     },
     "metadata": {},
     "output_type": "display_data"
    }
   ],
   "source": [
    "\n",
    "\n",
    "boot_mean <- function(values,i) mean(values[i])\n",
    "alpha <- 0.05\n",
    "\n",
    "number_of_factors <- length(levels(df_factor$RelativesFriends))\n",
    "ymin <- vector(mode = \"numeric\", length = number_of_factors)\n",
    "ymax <- vector(mode = \"numeric\", length = number_of_factors)\n",
    "\n",
    "for(i in 1:number_of_factors) {\n",
    "  \n",
    "  factor_current <- levels(df_factor$RelativesFriends)[i]\n",
    "  \n",
    "  values <- df_factor %>% \n",
    "    filter(RelativesFriends == factor_current) %>% \n",
    "    select(Survived) %>% \n",
    "    mutate(as.integer(Survived) - 1) %>%\n",
    "    pull()\n",
    "  \n",
    "  fit <- boot(values, boot_mean, R = 100)\n",
    "  quantiles <- quantile(fit$t,c(alpha / 2, 1 - (alpha / 2)))\n",
    "  \n",
    "  ymin[i] <- quantiles[1]\n",
    "  ymax[i] <- quantiles[2]\n",
    "}\n",
    "\n",
    "\n",
    "df_plot <- df_factor %>%\n",
    "  group_by(RelativesFriends) %>%\n",
    "  summarise(count = n(),\n",
    "            prob = mean(as.numeric(Survived) - 1))   %>%\n",
    "  mutate(RelativesFriends = fct_reorder(RelativesFriends, prob, .desc = TRUE))\n",
    "\n",
    "\n",
    "ggplot(df_plot, aes(x = RelativesFriends, y = prob)) + \n",
    "  geom_col(width = 0.75) + \n",
    "  geom_errorbar(ymin = ymin,\n",
    "                ymax = ymax,\n",
    "                width = .75) +\n",
    "  theme_bw() + \n",
    "  labs(\n",
    "    title = paste0(\"Survival Probabilities of factor RelativesFriends with \", 1 - alpha, \" CI\"),\n",
    "    subtitle = paste0(\" p value of Test \\\"H0: probabilities are the same\\\": \", signif (test$p.value, 5))\n",
    "  ) +\n",
    "  ylim(c(0,1))"
   ]
  },
  {
   "cell_type": "markdown",
   "metadata": {},
   "source": [
    "## Ticket"
   ]
  },
  {
   "cell_type": "code",
   "execution_count": 54,
   "metadata": {},
   "outputs": [
    {
     "data": {
      "image/png": "[encoded data removed]",
      "text/plain": [
       "plot without title"
      ]
     },
     "metadata": {},
     "output_type": "display_data"
    }
   ],
   "source": [
    "df_factor <-  df %>%\n",
    "  mutate(\n",
    "    Ticket = str_sub(Ticket,1,1),\n",
    "    Ticket = case_when(\n",
    "      str_detect(Ticket, \"^\\\\d\") ~ \"Digit\",\n",
    "      TRUE ~ Ticket\n",
    "    ),\n",
    "    Ticket = factor(Ticket))\n",
    "\n",
    "ggplot(df_factor, aes(Ticket)) +\n",
    "  geom_bar() +\n",
    "  theme_bw()"
   ]
  },
  {
   "cell_type": "code",
   "execution_count": 55,
   "metadata": {},
   "outputs": [
    {
     "data": {
      "text/plain": [
       "\n",
       "    A     C Digit     F     L     P     S     W \n",
       "   29    47   661     7     4    65    65    13 "
      ]
     },
     "metadata": {},
     "output_type": "display_data"
    },
    {
     "data": {
      "text/plain": [
       "       \n",
       "                 0          1\n",
       "  A     0.93103448 0.06896552\n",
       "  C     0.65957447 0.34042553\n",
       "  Digit 0.61573374 0.38426626\n",
       "  F     0.42857143 0.57142857\n",
       "  L     0.75000000 0.25000000\n",
       "  P     0.35384615 0.64615385\n",
       "  S     0.67692308 0.32307692\n",
       "  W     0.84615385 0.15384615"
      ]
     },
     "metadata": {},
     "output_type": "display_data"
    },
    {
     "name": "stderr",
     "output_type": "stream",
     "text": [
      "Warning message in prop.test(table_abs):\n",
      "\"Chi-squared approximation may be incorrect\""
     ]
    },
    {
     "name": "stdout",
     "output_type": "stream",
     "text": [
      "\n",
      "\t8-sample test for equality of proportions without continuity\n",
      "\tcorrection\n",
      "\n",
      "data:  table_abs\n",
      "X-squared = 36.71, df = 7, p-value = 5.323e-06\n",
      "alternative hypothesis: two.sided\n",
      "sample estimates:\n",
      "   prop 1    prop 2    prop 3    prop 4    prop 5    prop 6    prop 7    prop 8 \n",
      "0.9310345 0.6595745 0.6157337 0.4285714 0.7500000 0.3538462 0.6769231 0.8461538 \n",
      "\n"
     ]
    }
   ],
   "source": [
    "table(df_factor$Ticket)\n",
    "table_abs <- table(df_factor$Ticket, df_factor$Survived)\n",
    "\n",
    "prop.table(table_abs, 1)\n",
    "\n",
    "test <- prop.test(table_abs)\n",
    "print(test)"
   ]
  },
  {
   "cell_type": "code",
   "execution_count": 56,
   "metadata": {},
   "outputs": [
    {
     "data": {
      "image/png": "[encoded data removed]",
      "text/plain": [
       "plot without title"
      ]
     },
     "metadata": {},
     "output_type": "display_data"
    }
   ],
   "source": [
    "boot_mean <- function(values,i) mean(values[i])\n",
    "alpha <- 0.05\n",
    "\n",
    "number_of_factors <- length(levels(df_factor$Ticket))\n",
    "ymin <- vector(mode = \"numeric\", length = number_of_factors)\n",
    "ymax <- vector(mode = \"numeric\", length = number_of_factors)\n",
    "\n",
    "for(i in 1:number_of_factors) {\n",
    "  \n",
    "  factor_current <- levels(df_factor$Ticket)[i]\n",
    "  \n",
    "  values <- df_factor %>% \n",
    "    filter(Ticket == factor_current) %>% \n",
    "    select(Survived) %>% \n",
    "    mutate(as.integer(Survived) - 1) %>%\n",
    "    pull()\n",
    "  \n",
    "  fit <- boot(values, boot_mean, R = 100)\n",
    "  quantiles <- quantile(fit$t,c(alpha / 2, 1 - (alpha / 2)))\n",
    "  \n",
    "  ymin[i] <- quantiles[1]\n",
    "  ymax[i] <- quantiles[2]\n",
    "}\n",
    "\n",
    "\n",
    "df_plot <- df_factor %>%\n",
    "  group_by(Ticket) %>%\n",
    "  summarise(count = n(),\n",
    "            prob = mean(as.numeric(Survived) - 1))   %>%\n",
    "  mutate(Ticket = fct_reorder(Ticket, prob, .desc = TRUE))\n",
    "\n",
    "\n",
    "ggplot(df_plot, aes(x = Ticket, y = prob)) + \n",
    "  geom_col(width = 0.75) + \n",
    "  geom_errorbar(ymin = ymin,\n",
    "                ymax = ymax,\n",
    "                width = .75) +\n",
    "  theme_bw() + \n",
    "  labs(\n",
    "    title = paste0(\"Survival Probabilities of factor Ticket with \", 1 - alpha, \" CI\"),\n",
    "    subtitle = paste0(\" p value of Test \\\"H0: probabilities are the same\\\": \", signif (test$p.value, 5))\n",
    "  ) +\n",
    "  ylim(c(0,1))"
   ]
  },
  {
   "cell_type": "markdown",
   "metadata": {},
   "source": [
    "## Preparing Data Set"
   ]
  },
  {
   "cell_type": "code",
   "execution_count": 57,
   "metadata": {
    "scrolled": true
   },
   "outputs": [
    {
     "name": "stderr",
     "output_type": "stream",
     "text": [
      "Parsed with column specification:\n",
      "cols(\n",
      "  PassengerId = col_double(),\n",
      "  Survived = col_double(),\n",
      "  Pclass = col_double(),\n",
      "  Name = col_character(),\n",
      "  Sex = col_character(),\n",
      "  Age = col_double(),\n",
      "  SibSp = col_double(),\n",
      "  Parch = col_double(),\n",
      "  Ticket = col_character(),\n",
      "  Fare = col_double(),\n",
      "  Cabin = col_character(),\n",
      "  Embarked = col_character()\n",
      ")\n"
     ]
    },
    {
     "name": "stdout",
     "output_type": "stream",
     "text": [
      "Observations: 891\n",
      "Variables: 12\n",
      "$ Survived         <fct> 0, 1, 1, 1, 0, 0, 0, 0, 1, 1, 1, 1, 0, 0, 0, 1, 0,...\n",
      "$ Pclass           <fct> 3, 1, 3, 1, 3, 3, 1, 3, 3, 2, 3, 1, 3, 3, 3, 2, 3,...\n",
      "$ Sex              <fct> male, female, female, female, male, male, male, ma...\n",
      "$ Age              <dbl> 22.0, 38.0, 26.0, 35.0, 35.0, 24.2, 54.0, 2.0, 27....\n",
      "$ SibSp            <dbl> 1, 1, 0, 1, 0, 0, 0, 3, 0, 1, 1, 0, 0, 1, 0, 0, 4,...\n",
      "$ Parch            <dbl> 0, 0, 0, 0, 0, 0, 0, 1, 2, 0, 1, 0, 0, 5, 0, 0, 1,...\n",
      "$ Ticket           <fct> A, P, S, Digit, Digit, Digit, Digit, Digit, Digit,...\n",
      "$ Fare             <dbl> 2.692582, 8.442944, 2.815138, 7.286975, 2.837252, ...\n",
      "$ Cabin            <fct> NotAv, AVG, NotAv, AVG, NotAv, NotAv, Top, NotAv, ...\n",
      "$ Embarked         <fct> S, C, S, S, S, Q, S, S, S, C, S, S, S, S, S, S, Q,...\n",
      "$ Title            <fct> Mr, Miss, Miss, Miss, Mr, Mr, Mr, Master, Miss, Mi...\n",
      "$ RelativesFriends <fct> One, One, None, One, None, None, None, Small, Smal...\n"
     ]
    }
   ],
   "source": [
    "ex_title <- \"[a-zA-Z]*\\\\.\"\n",
    "\n",
    "df <- read_csv(\"train.csv\") %>%\n",
    "  mutate(Pclass = factor(Pclass),\n",
    "         Sex = factor(Sex),\n",
    "         Embarked = factor(Embarked, levels = c(\"C\", \"Q\", \"S\")),\n",
    "         Survived = factor(Survived),\n",
    "         \n",
    "         Fare = sqrt(Fare),\n",
    "         \n",
    "         Title = str_extract(Name, ex_title),\n",
    "         Title = case_when(\n",
    "            str_detect(Title, \"(Mrs|Miss|Ms)\\\\.\") ~ \"Miss\",\n",
    "            str_detect(Title, \"(Mr)\\\\.\") ~ \"Mr\",\n",
    "            str_detect(Title, \"(Master)\\\\.\") ~ \"Master\",\n",
    "            TRUE ~ \"Special\"),\n",
    "         Title = factor(Title),\n",
    "         \n",
    "        Cabin = str_sub(df$Cabin,1,1),\n",
    "        Cabin = case_when(\n",
    "            str_detect(Cabin, \"(D|E|B)\") ~ \"Top\",\n",
    "            str_detect(Cabin, \"(F|C|G|A|T)\") ~ \"AVG\",\n",
    "            TRUE ~ \"NotAv\"),\n",
    "        Cabin = factor(Cabin),\n",
    "         \n",
    "         RelativesFriends = SibSp + Parch,\n",
    "         RelativesFriends = case_when(\n",
    "                    RelativesFriends == 0 ~ \"None\",\n",
    "                    RelativesFriends  == 1 ~ \"One\",\n",
    "                    RelativesFriends  <= 4 ~ \"Small\",\n",
    "                    TRUE ~ \"Large\"),\n",
    "        RelativesFriends = factor(RelativesFriends),\n",
    "         \n",
    "         Ticket = str_sub(Ticket,1,1),\n",
    "         Ticket = case_when(\n",
    "      str_detect(Ticket, \"^\\\\d\") ~ \"Digit\",\n",
    "      TRUE ~ Ticket\n",
    "    ),\n",
    "    Ticket = factor(Ticket)\n",
    "       \n",
    "         \n",
    "        ) \n",
    "\n",
    "df$Embarked[is.na(df$Embarked)] <- \"S\"\n",
    "\n",
    "df  <- df %>% select(-PassengerId, -Name)\n",
    "\n",
    "\n",
    "# Impute Age with knn---------------------\n",
    "df_impute <- df %>% select( -Survived)\n",
    "\n",
    "mean_age = mean(df$Age, na.rm = TRUE)\n",
    "sd_age = sd(df$Age, na.rm = TRUE)\n",
    "\n",
    "\n",
    "fit  <- preProcess(df_impute, method = c(\"center\", \"scale\", \"knnImpute\"), k = 5)\n",
    "df_imputed <- predict(fit, df_impute)\n",
    "\n",
    "\n",
    "df <- df %>%\n",
    "  mutate(Age = df_imputed$Age * sd_age + mean_age)\n",
    "\n",
    "\n",
    "#-----------------------\n",
    "\n",
    "\n",
    "glimpse(df)\n"
   ]
  }
 ],
 "metadata": {
  "kernelspec": {
   "display_name": "R",
   "language": "R",
   "name": "ir"
  },
  "language_info": {
   "codemirror_mode": "r",
   "file_extension": ".r",
   "mimetype": "text/x-r-source",
   "name": "R",
   "pygments_lexer": "r",
   "version": "3.6.0"
  }
 },
 "nbformat": 4,
 "nbformat_minor": 2
}
